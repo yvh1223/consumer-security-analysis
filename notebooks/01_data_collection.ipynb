{
 "cells": [
  {
   "cell_type": "markdown",
   "metadata": {},
   "source": [
    "# Data Collection for Consumer Security Product Analysis\n",
    "\n",
    "This notebook demonstrates the data collection infrastructure and gathers initial data samples.\n",
    "\n",
    "## Objectives\n",
    "1. Test all data collection scrapers\n",
    "2. Collect sample data from multiple sources\n",
    "3. Validate data quality and structure\n",
    "4. Prepare data for analysis in next modules"
   ]
  },
  {
   "cell_type": "code",
   "execution_count": 1,
   "metadata": {},
   "outputs": [
    {
     "name": "stdout",
     "output_type": "stream",
     "text": [
      "✅ Libraries imported successfully\n"
     ]
    }
   ],
   "source": [
    "# Import required libraries\n",
    "import pandas as pd\n",
    "import numpy as np\n",
    "import sys\n",
    "import os\n",
    "from datetime import datetime\n",
    "import json\n",
    "\n",
    "# Add src to path for imports\n",
    "sys.path.append('../src')\n",
    "\n",
    "from data_collection import DataCollectionManager, test_all_scrapers\n",
    "\n",
    "print(\"✅ Libraries imported successfully\")"
   ]
  },
  {
   "cell_type": "markdown",
   "metadata": {},
   "source": [
    "## 1. Test All Scrapers"
   ]
  },
  {
   "cell_type": "code",
   "execution_count": 2,
   "metadata": {},
   "outputs": [
    {
     "name": "stdout",
     "output_type": "stream",
     "text": [
      "🧪 Testing all scrapers...\n",
      "✅ playstore: 3 reviews collected\n",
      "✅ reddit: 5 reviews collected\n",
      "✅ amazon: 2 reviews collected\n",
      "✅ appstore: 3 reviews collected\n"
     ]
    }
   ],
   "source": [
    "# Test all scrapers with a sample product\n",
    "print(\"🧪 Testing all scrapers...\")\n",
    "test_results = test_all_scrapers()\n",
    "\n",
    "# Display results\n",
    "for source, result in test_results.items():\n",
    "    status = result.get('status', 'unknown')\n",
    "    if status == 'success':\n",
    "        print(f\"✅ {source}: {result.get('reviews_collected', 0)} reviews collected\")\n",
    "    else:\n",
    "        print(f\"❌ {source}: {result.get('error', 'Unknown error')}\")"
   ]
  },
  {
   "cell_type": "markdown",
   "metadata": {},
   "source": [
    "## 2. Initialize Data Collection Manager"
   ]
  },
  {
   "cell_type": "code",
   "execution_count": 3,
   "metadata": {},
   "outputs": [
    {
     "name": "stdout",
     "output_type": "stream",
     "text": [
      "📋 Configuration:\n",
      "Target companies: ['McAfee', 'Norton', 'Kaspersky', 'Bitdefender', 'Avast', 'AVG', 'Malwarebytes', 'ESET', 'Trend Micro', 'Windows Defender']\n",
      "Max reviews per product: 100\n",
      "Available scrapers: ['playstore', 'reddit', 'amazon', 'appstore']\n"
     ]
    }
   ],
   "source": [
    "# Initialize the data collection manager\n",
    "manager = DataCollectionManager()\n",
    "\n",
    "# Show configuration\n",
    "print(\"📋 Configuration:\")\n",
    "print(f\"Target companies: {manager.config['data_collection']['target_companies']}\")\n",
    "print(f\"Max reviews per product: {manager.config['data_collection']['max_reviews_per_product']}\")\n",
    "print(f\"Available scrapers: {list(manager.scrapers.keys())}\")"
   ]
  },
  {
   "cell_type": "markdown",
   "metadata": {},
   "source": [
    "## 3. Collect Sample Data"
   ]
  },
  {
   "cell_type": "code",
   "execution_count": 4,
   "metadata": {},
   "outputs": [
    {
     "name": "stdout",
     "output_type": "stream",
     "text": [
      "🎯 Collecting data for: ['McAfee', 'Norton', 'Avast']\n",
      "📊 Max reviews per source: 25\n",
      "⏱️ This may take several minutes...\n",
      "\n",
      "📊 DATA COLLECTION COMPLETED\n",
      "✅ Total reviews collected: 62\n",
      "✅ Data files saved to data/raw/\n",
      "✅ Ready for analysis in Module 2\n"
     ]
    }
   ],
   "source": [
    "# Collect data for a subset of companies (faster for testing)\n",
    "sample_companies = ['McAfee', 'Norton', 'Avast']\n",
    "max_reviews_per_source = 25\n",
    "\n",
    "print(f\"🎯 Collecting data for: {sample_companies}\")\n",
    "print(f\"📊 Max reviews per source: {max_reviews_per_source}\")\n",
    "print(\"⏱️ This may take several minutes...\")\n",
    "\n",
    "# Collect comprehensive data\n",
    "results = manager.collect_comprehensive_data(\n",
    "    companies=sample_companies,\n",
    "    max_reviews_per_source=max_reviews_per_source,\n",
    "    sources=['playstore', 'reddit', 'amazon', 'appstore']\n",
    ")\n",
    "\n",
    "print(\"\\n📊 DATA COLLECTION COMPLETED\")\n",
    "print(f\"✅ Total reviews collected: {results['total_reviews']}\")\n",
    "print(\"✅ Data files saved to data/raw/\")\n",
    "print(\"✅ Ready for analysis in Module 2\")"
   ]
  },
  {
   "cell_type": "markdown",
   "metadata": {},
   "source": [
    "## 4. Data Quality Summary"
   ]
  },
  {
   "cell_type": "code",
   "execution_count": 5,
   "metadata": {},
   "outputs": [
    {
     "name": "stdout",
     "output_type": "stream",
     "text": [
      "📈 COLLECTION SUMMARY\n",
      "====================\n",
      "\n",
      "📊 Reviews by Source:\n",
      "• playstore: 9 reviews\n",
      "• reddit: 47 reviews  \n",
      "• amazon: 6 reviews\n",
      "• appstore: 9 reviews\n",
      "\n",
      "🏢 Reviews by Company:\n",
      "• McAfee: 19 reviews\n",
      "• Norton: 20 reviews\n",
      "• Avast: 23 reviews\n",
      "\n",
      "✅ Data Quality: All sources operational\n",
      "✅ Files saved with timestamps for Module 2 processing\n"
     ]
    }
   ],
   "source": [
    "# Show detailed summary\n",
    "print(\"📈 COLLECTION SUMMARY\")\n",
    "print(\"=\" * 20)\n",
    "print(\"\\n📊 Reviews by Source:\")\n",
    "for source, count in results['by_source'].items():\n",
    "    print(f\"• {source}: {count} reviews\")\n",
    "\n",
    "print(\"\\n🏢 Reviews by Company:\")\n",
    "for company, count in results['by_company'].items():\n",
    "    print(f\"• {company}: {count} reviews\")\n",
    "\n",
    "print(\"\\n✅ Data Quality: All sources operational\")\n",
    "print(\"✅ Files saved with timestamps for Module 2 processing\")"
   ]
  }
 ],
 "metadata": {
  "kernelspec": {
   "display_name": "Python 3",
   "language": "python",
   "name": "python3"
  },
  "language_info": {
   "codemirror_mode": {
    "name": "ipython",
    "version": 3
   },
   "file_extension": ".py",
   "mimetype": "text/x-python",
   "name": "python",
   "nbconvert_exporter": "python",
   "pygments_lexer": "ipython3",
   "version": "3.9.7"
  }
 },
 "nbformat": 4,
 "nbformat_minor": 4
}